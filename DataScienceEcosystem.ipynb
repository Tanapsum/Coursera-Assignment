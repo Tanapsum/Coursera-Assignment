{
 "cells": [
  {
   "cell_type": "markdown",
   "id": "6ec08f9c-c7b0-4ae4-b6bd-096e6c19763c",
   "metadata": {},
   "source": [
    "# Data Science Tools and Ecosystem"
   ]
  },
  {
   "cell_type": "markdown",
   "id": "d08bf08a-c292-4b63-8513-0dd3ecf5be92",
   "metadata": {},
   "source": [
    "In this notebook, Data Science Tools and Ecosystem are summarized."
   ]
  },
  {
   "cell_type": "markdown",
   "id": "69ee5f23-fa37-461e-900c-676f689d66bf",
   "metadata": {},
   "source": [
    "**Objectives:**\n",
    "- list of popular language that Data Scientist use\n",
    "- list of libraries used by Data Scientist\n",
    "- list of Data Science Tools"
   ]
  },
  {
   "cell_type": "markdown",
   "id": "48dd73f8-fd6b-42a2-a80f-dd41e2634a77",
   "metadata": {},
   "source": [
    "Some of the popular languages that Data Scientists use are:\n",
    "1. Python\n",
    "2. R\n",
    "3. SQL\n",
    "4. Java"
   ]
  },
  {
   "cell_type": "markdown",
   "id": "baef3f02-b344-46a3-9616-2fb5d275adbc",
   "metadata": {},
   "source": [
    "Some of the commonly used libraries used by Data Scientists include: \n",
    "1. NumPy\n",
    "2. Matplotlib\n",
    "3. Seaborn"
   ]
  },
  {
   "cell_type": "markdown",
   "id": "6fd8788c-4b24-4270-82b2-ea9a20b11ef0",
   "metadata": {},
   "source": [
    "|Data Science Tools|\n",
    "|-------------|\n",
    "|Apache Spark|\n",
    "|TensorFlow|\n",
    "|RStudio|"
   ]
  },
  {
   "cell_type": "markdown",
   "id": "7d52fdc8-e02e-43da-b65e-7c28a5ace6cd",
   "metadata": {},
   "source": [
    "### Below are a few examples of evaluating arithmetic expressions in Python"
   ]
  },
  {
   "cell_type": "code",
   "execution_count": 3,
   "id": "8dd42d35-1e71-4112-833c-a4a2327e5018",
   "metadata": {},
   "outputs": [
    {
     "data": {
      "text/plain": [
       "17"
      ]
     },
     "execution_count": 3,
     "metadata": {},
     "output_type": "execute_result"
    }
   ],
   "source": [
    "#This a simple arithmetic expression to mutiply then add integers\n",
    "(3*4)+5"
   ]
  },
  {
   "cell_type": "code",
   "execution_count": 4,
   "id": "86428c59-f79f-4037-90e0-c589abf30d93",
   "metadata": {},
   "outputs": [
    {
     "data": {
      "text/plain": [
       "3.3333333333333335"
      ]
     },
     "execution_count": 4,
     "metadata": {},
     "output_type": "execute_result"
    }
   ],
   "source": [
    "#This will convert 200 minutes to hours by diving by 60\n",
    "200/60"
   ]
  },
  {
   "cell_type": "markdown",
   "id": "f7ce7baf-6448-4df6-8211-25341812452f",
   "metadata": {},
   "source": [
    "## Author\n",
    "Tanaphan"
   ]
  }
 ],
 "metadata": {
  "kernelspec": {
   "display_name": "Python 3 (ipykernel)",
   "language": "python",
   "name": "python3"
  },
  "language_info": {
   "codemirror_mode": {
    "name": "ipython",
    "version": 3
   },
   "file_extension": ".py",
   "mimetype": "text/x-python",
   "name": "python",
   "nbconvert_exporter": "python",
   "pygments_lexer": "ipython3",
   "version": "3.13.1"
  }
 },
 "nbformat": 4,
 "nbformat_minor": 5
}
